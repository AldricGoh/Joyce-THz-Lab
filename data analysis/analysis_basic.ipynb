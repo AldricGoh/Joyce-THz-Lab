{
 "cells": [
  {
   "cell_type": "markdown",
   "id": "790c9b62",
   "metadata": {},
   "source": [
    "### Import all required modules"
   ]
  },
  {
   "cell_type": "code",
   "execution_count": null,
   "id": "ba59d6ac",
   "metadata": {},
   "outputs": [],
   "source": [
    "import pandas as pd\n"
   ]
  },
  {
   "cell_type": "markdown",
   "id": "b427ac4e",
   "metadata": {},
   "source": [
    "### Sample attributes\n",
    "When the file type is json or hfd5, sample and experimental attributes may be saved within the file for convenience. This function helps to extract those attributes. Typically, attributes will be saved as strings.\n",
    "\n",
    "Available attributes: <br>\n",
    "**Sample**:\n",
    "- Sample name\n",
    "- Sample type (thin films, nanowires, etc)\n",
    "- Sample thickness/diameter\n",
    "- Sample reference\n",
    "- Sample description\n",
    "- Passivation layer\n",
    "- Temperature\n",
    "- Sample fabriation technique\n",
    "\n",
    "**Experimental**:\n",
    "- Pump fluence\n",
    "- Vacuum/purged conditions\n",
    "- Emitter & detector\n",
    "- Pump wavelength\n"
   ]
  },
  {
   "cell_type": "markdown",
   "id": "9dc20714",
   "metadata": {},
   "source": [
    "### Reminder of sampling scheme\n",
    "Sampling scheme is dependent on the frequency at which we chop the THz generation pulse, and the pump pulse. Current default is 2500 Hz and 1250 Hz respectively, but one must always adjust the code accordingly, or better yet, encode it within the experimentation program so ABCD signal would always adhere to the following scheme:\n",
    "\n",
    "## Pulses schematic\n",
    "A: Gate pulse               <br>\n",
    "B: E_on + pump + gate pulse <br>\n",
    "C: Pump + gate pulse        <br>\n",
    "D: E_off + gate pulse\n",
    "\n",
    "Therefore, to get the relevant information: <br>\n",
    "**Dark THz signal**:<br>\n",
    "&nbsp;&nbsp;&nbsp;&nbsp;- *E_off* = (D - A)<br>\n",
    "**Pump THz signal**:<br>\n",
    "&nbsp;&nbsp;&nbsp;&nbsp;- *E_on* = (B - C)<br>\n",
    "**Change in sample properties between excited and unexcited states**:<br>\n",
    "&nbsp;&nbsp;&nbsp;&nbsp;- *DT* = (B - C) - (D - A)<br>\n",
    "**Sample THz emission**: <br>\n",
    "&nbsp;&nbsp;&nbsp;&nbsp;- *sample_emission* = (C -A)\n",
    "\n"
   ]
  },
  {
   "cell_type": "code",
   "execution_count": null,
   "id": "57a47a58",
   "metadata": {},
   "outputs": [],
   "source": []
  }
 ],
 "metadata": {
  "kernelspec": {
   "display_name": "Python 3",
   "language": "python",
   "name": "python3"
  },
  "language_info": {
   "codemirror_mode": {
    "name": "ipython",
    "version": 3
   },
   "file_extension": ".py",
   "mimetype": "text/x-python",
   "name": "python",
   "nbconvert_exporter": "python",
   "pygments_lexer": "ipython3",
   "version": "3.13.3"
  }
 },
 "nbformat": 4,
 "nbformat_minor": 5
}
