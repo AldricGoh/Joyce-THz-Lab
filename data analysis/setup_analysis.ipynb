{
 "cells": [
  {
   "cell_type": "markdown",
   "id": "1e7c56ca",
   "metadata": {},
   "source": [
    "# Setup Analysis\n",
    "These are some useful functions and hints to debug certain portions of the code, without having to run the entire thing or mess up the code."
   ]
  },
  {
   "cell_type": "markdown",
   "id": "55dc4861",
   "metadata": {},
   "source": [
    "## DLL analysis\n",
    "A lof od the instruments rely on Dynamic Linked Libraries (DLLs) to be controlled via Python. The DLLs should also be copied into src/instruments/instruments_DLL for consistency.\n",
    "\n",
    "The best is to refer to the programmer's manual of the instruments to fully understand which functions are available, but sometimes the manuals aren't clear and debugging can be a hassle. Here are a few useful functions to help with debugging."
   ]
  },
  {
   "cell_type": "code",
   "execution_count": null,
   "id": "9d01b825",
   "metadata": {},
   "outputs": [
    {
     "name": "stdout",
     "output_type": "stream",
     "text": [
      "Requirement already satisfied: pythonnet in c:\\users\\sk2010\\appdata\\local\\programs\\python\\python36-32\\lib\\site-packages (2.4.0)\n"
     ]
    },
    {
     "name": "stderr",
     "output_type": "stream",
     "text": [
      "ERROR: Could not find a version that satisfies the requirement System (from versions: none)\n",
      "ERROR: No matching distribution found for System\n"
     ]
    }
   ],
   "source": [
    "# Install pythonnet if not already installed\n",
    "!pip install pythonnet\n"
   ]
  },
  {
   "cell_type": "code",
   "execution_count": 10,
   "id": "de6358a9",
   "metadata": {},
   "outputs": [
    {
     "ename": "BadImageFormatException",
     "evalue": "Could not load file or assembly 'file:///D:\\Aldric\\Joyce THz Lab Code\\src\\instruments\\instruments_dlls\\SC10CommandLib_x64.dll' or one of its dependencies. The module was expected to contain an assembly manifest.\r\nFile name: 'file:///D:\\Aldric\\Joyce THz Lab Code\\src\\instruments\\instruments_dlls\\SC10CommandLib_x64.dll'\r\n   at System.Reflection.RuntimeAssembly._nLoad(AssemblyName fileName, String codeBase, Evidence assemblySecurity, RuntimeAssembly locationHint, StackCrawlMark& stackMark, IntPtr pPrivHostBinder, Boolean throwOnFileNotFound, Boolean forIntrospection, Boolean suppressSecurityChecks)\r\n   at System.Reflection.RuntimeAssembly.InternalLoadAssemblyName(AssemblyName assemblyRef, Evidence assemblySecurity, RuntimeAssembly reqAssembly, StackCrawlMark& stackMark, IntPtr pPrivHostBinder, Boolean throwOnFileNotFound, Boolean forIntrospection, Boolean suppressSecurityChecks)\r\n   at System.Reflection.RuntimeAssembly.InternalLoadFrom(String assemblyFile, Evidence securityEvidence, Byte[] hashValue, AssemblyHashAlgorithm hashAlgorithm, Boolean forIntrospection, Boolean suppressSecurityChecks, StackCrawlMark& stackMark)\r\n   at System.Reflection.Assembly.LoadFrom(String assemblyFile)\r\n   at Python.Runtime.AssemblyManager.LoadAssemblyPath(String name)\r\n   at Python.Runtime.CLRModule.AddReference(String name)\r\n\r\nWRN: Assembly binding logging is turned OFF.\r\nTo enable assembly bind failure logging, set the registry value [HKLM\\Software\\Microsoft\\Fusion!EnableLog] (DWORD) to 1.\r\nNote: There is some performance penalty associated with assembly bind failure logging.\r\nTo turn this feature off, remove the registry value [HKLM\\Software\\Microsoft\\Fusion!EnableLog].\r\n",
     "output_type": "error",
     "traceback": [
      "\u001b[31m---------------------------------------------------------------------------\u001b[39m",
      "\u001b[31mBadImageFormatException\u001b[39m                   Traceback (most recent call last)",
      "\u001b[36mCell\u001b[39m\u001b[36m \u001b[39m\u001b[32mIn[10]\u001b[39m\u001b[32m, line 10\u001b[39m\n\u001b[32m      5\u001b[39m DLL_DIRECTORY = (\u001b[33m\"\u001b[39m\u001b[33mD:/Aldric/Joyce THz Lab Code/src/instruments/instruments_dlls/\u001b[39m\u001b[33m\"\u001b[39m)\n\u001b[32m      7\u001b[39m \u001b[38;5;66;03m# Load the DLL\u001b[39;00m\n\u001b[32m      8\u001b[39m \u001b[38;5;66;03m# SC10CommandLib_x64\u001b[39;00m\n\u001b[32m      9\u001b[39m \u001b[38;5;66;03m# clr.AddReference(f\"{DLL_DIRECTORY}Newport.XPS.CommandInterface\")\u001b[39;00m\n\u001b[32m---> \u001b[39m\u001b[32m10\u001b[39m \u001b[43mclr\u001b[49m\u001b[43m.\u001b[49m\u001b[43mAddReference\u001b[49m\u001b[43m(\u001b[49m\u001b[33;43mf\u001b[39;49m\u001b[33;43m\"\u001b[39;49m\u001b[38;5;132;43;01m{\u001b[39;49;00m\u001b[43mDLL_DIRECTORY\u001b[49m\u001b[38;5;132;43;01m}\u001b[39;49;00m\u001b[33;43mSC10CommandLib_x64\u001b[39;49m\u001b[33;43m\"\u001b[39;49m\u001b[43m)\u001b[49m\n\u001b[32m     12\u001b[39m \u001b[38;5;28mprint\u001b[39m(\u001b[38;5;28mlist\u001b[39m(\u001b[38;5;28mdir\u001b[39m(SC10LIB)))  \u001b[38;5;66;03m# find methods\u001b[39;00m\n\u001b[32m     14\u001b[39m \u001b[38;5;66;03m# or get method overloads\u001b[39;00m\n\u001b[32m     15\u001b[39m \u001b[38;5;66;03m# from System.Reflection import BindingFlags\u001b[39;00m\n\u001b[32m     16\u001b[39m \u001b[38;5;66;03m# methods = xps.GetType().GetMember(\"GroupMoveRelative\", BindingFlags.Public | BindingFlags.Instance)\u001b[39;00m\n\u001b[32m     17\u001b[39m \u001b[38;5;66;03m# for m in methods:\u001b[39;00m\n\u001b[32m     18\u001b[39m \u001b[38;5;66;03m#     print(m)\u001b[39;00m\n",
      "\u001b[31mBadImageFormatException\u001b[39m: Could not load file or assembly 'file:///D:\\Aldric\\Joyce THz Lab Code\\src\\instruments\\instruments_dlls\\SC10CommandLib_x64.dll' or one of its dependencies. The module was expected to contain an assembly manifest.\r\nFile name: 'file:///D:\\Aldric\\Joyce THz Lab Code\\src\\instruments\\instruments_dlls\\SC10CommandLib_x64.dll'\r\n   at System.Reflection.RuntimeAssembly._nLoad(AssemblyName fileName, String codeBase, Evidence assemblySecurity, RuntimeAssembly locationHint, StackCrawlMark& stackMark, IntPtr pPrivHostBinder, Boolean throwOnFileNotFound, Boolean forIntrospection, Boolean suppressSecurityChecks)\r\n   at System.Reflection.RuntimeAssembly.InternalLoadAssemblyName(AssemblyName assemblyRef, Evidence assemblySecurity, RuntimeAssembly reqAssembly, StackCrawlMark& stackMark, IntPtr pPrivHostBinder, Boolean throwOnFileNotFound, Boolean forIntrospection, Boolean suppressSecurityChecks)\r\n   at System.Reflection.RuntimeAssembly.InternalLoadFrom(String assemblyFile, Evidence securityEvidence, Byte[] hashValue, AssemblyHashAlgorithm hashAlgorithm, Boolean forIntrospection, Boolean suppressSecurityChecks, StackCrawlMark& stackMark)\r\n   at System.Reflection.Assembly.LoadFrom(String assemblyFile)\r\n   at Python.Runtime.AssemblyManager.LoadAssemblyPath(String name)\r\n   at Python.Runtime.CLRModule.AddReference(String name)\r\n\r\nWRN: Assembly binding logging is turned OFF.\r\nTo enable assembly bind failure logging, set the registry value [HKLM\\Software\\Microsoft\\Fusion!EnableLog] (DWORD) to 1.\r\nNote: There is some performance penalty associated with assembly bind failure logging.\r\nTo turn this feature off, remove the registry value [HKLM\\Software\\Microsoft\\Fusion!EnableLog].\r\n"
     ]
    }
   ],
   "source": [
    "import sys\n",
    "import clr\n",
    "import inspect\n",
    "# Add the absolute DLL directory path\n",
    "DLL_DIRECTORY = (\"D:/Aldric/Joyce THz Lab Code/src/instruments/instruments_dlls/\")\n",
    "\n",
    "# Load the DLL\n",
    "# SC10CommandLib_x64\n",
    "# clr.AddReference(f\"{DLL_DIRECTORY}Newport.XPS.CommandInterface\")\n",
    "clr.AddReference(f\"{DLL_DIRECTORY}SC10CommandLib_x64\")\n",
    "\n",
    "print(list(dir(SC10LIB)))  # find methods\n",
    "\n",
    "# or get method overloads\n",
    "# from System.Reflection import BindingFlags\n",
    "# methods = xps.GetType().GetMember(\"GroupMoveRelative\", BindingFlags.Public | BindingFlags.Instance)\n",
    "# for m in methods:\n",
    "#     print(m)"
   ]
  },
  {
   "cell_type": "code",
   "execution_count": null,
   "id": "84022a73",
   "metadata": {},
   "outputs": [],
   "source": [
    "methods = self.XPS.GetType().GetMember(\"GroupMoveRelative\", BindingFlags.Public | BindingFlags.Instance)\n",
    "        for m in methods:\n",
    "            print(m)"
   ]
  }
 ],
 "metadata": {
  "kernelspec": {
   "display_name": "Python 3",
   "language": "python",
   "name": "python3"
  },
  "language_info": {
   "codemirror_mode": {
    "name": "ipython",
    "version": 3
   },
   "file_extension": ".py",
   "mimetype": "text/x-python",
   "name": "python",
   "nbconvert_exporter": "python",
   "pygments_lexer": "ipython3",
   "version": "3.13.3"
  }
 },
 "nbformat": 4,
 "nbformat_minor": 5
}
